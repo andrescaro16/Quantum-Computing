{
 "cells": [
  {
   "cell_type": "code",
   "execution_count": 28,
   "metadata": {},
   "outputs": [
    {
     "name": "stdout",
     "output_type": "stream",
     "text": [
      "Balanced {'1': 10}\n",
      "Constant0 {'0': 10}\n",
      "Constant1 {'0': 10}\n"
     ]
    }
   ],
   "source": [
    "import qiskit as qk\n",
    "from qiskit import QuantumCircuit, QuantumRegister, ClassicalRegister\n",
    "from qiskit.providers.aer import QasmSimulator\n",
    "from qiskit import transpile\n",
    "\n",
    "\n",
    "# We register two QuantumRegisters and one ClassicalRegister\n",
    "circuit_registers = [QuantumRegister(2, 'input_qubits'), ClassicalRegister(1, 'output_bit')]\n",
    "\n",
    "\n",
    "def create_initialize_circuit():\n",
    "    \n",
    "    circuit = QuantumCircuit(*circuit_registers)\n",
    "    # We apply an X to the qubit output and an H to all the qubits\n",
    "    circuit.x(1)\n",
    "    circuit.h(0)\n",
    "    circuit.h(1)\n",
    "    circuit.barrier()\n",
    "    \n",
    "    return circuit\n",
    "\n",
    "\n",
    "def create_balanced_oracle():\n",
    "\n",
    "    circuit = QuantumCircuit(*circuit_registers)\n",
    "    # We apply the C-not\n",
    "    circuit.cx(0,1)\n",
    "    circuit.barrier()\n",
    "    \n",
    "    return circuit\n",
    "\n",
    "\n",
    "def create_constant_oracle0():\n",
    "\n",
    "    circuit = QuantumCircuit(*circuit_registers)\n",
    "    # We do not do anything\n",
    "\n",
    "    return circuit\n",
    "\n",
    "\n",
    "def create_constant_oracle1():\n",
    "    \n",
    "    circuit = QuantumCircuit(*circuit_registers)\n",
    "    # We apply the C-not\n",
    "    circuit.x(1)\n",
    "    circuit.barrier()\n",
    "    \n",
    "    return circuit\n",
    "\n",
    "\n",
    "def create_measurement_circuit():\n",
    "\n",
    "    circuit = QuantumCircuit(*circuit_registers)\n",
    "    # We apply the H to the input bit and we measure it\n",
    "    circuit.h(0)\n",
    "    circuit.measure(0, 0)\n",
    "    \n",
    "    return circuit\n",
    "\n",
    "\n",
    "# We create and initialize the circuit\n",
    "initialization_circuit = create_initialize_circuit()\n",
    "\n",
    "# We create the oracles\n",
    "balanced_oracle = create_balanced_oracle()\n",
    "constant_oracle0 = create_constant_oracle0()\n",
    "constant_oracle1 = create_constant_oracle1()\n",
    "\n",
    "# We create the measurement circuit\n",
    "measurement_circuit = create_measurement_circuit()\n",
    "\n",
    "# We simulate the quantum circuit\n",
    "simulator = QasmSimulator()\n",
    "\n",
    "# For each type of oracle, we run and measure the results\n",
    "oracles = [('Balanced', balanced_oracle), ('Constant0', constant_oracle0), ('Constant1', constant_oracle1)]\n",
    "for kind, oracle in oracles:\n",
    "    final_circuit = initialization_circuit.compose(oracle).compose(measurement_circuit)\n",
    "    transpiled_circuit = qk.transpile(final_circuit)\n",
    "    measure_result = simulator.run(transpiled_circuit, shots=10).result().get_counts()\n",
    "    print(kind, measure_result)\n",
    "\n",
    "\n"
   ]
  },
  {
   "cell_type": "code",
   "execution_count": 29,
   "metadata": {},
   "outputs": [
    {
     "data": {
      "image/png": "[encoded data removed]",
      "text/plain": [
       "<Figure size 623.099x204.68 with 1 Axes>"
      ]
     },
     "execution_count": 29,
     "metadata": {},
     "output_type": "execute_result"
    }
   ],
   "source": [
    "final_circuit.draw(output=\"mpl\")"
   ]
  }
 ],
 "metadata": {
  "kernelspec": {
   "display_name": "Python 3",
   "language": "python",
   "name": "python3"
  },
  "language_info": {
   "codemirror_mode": {
    "name": "ipython",
    "version": 3
   },
   "file_extension": ".py",
   "mimetype": "text/x-python",
   "name": "python",
   "nbconvert_exporter": "python",
   "pygments_lexer": "ipython3",
   "version": "3.10.12"
  },
  "orig_nbformat": 4
 },
 "nbformat": 4,
 "nbformat_minor": 2
}
